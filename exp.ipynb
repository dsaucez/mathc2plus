{
 "cells": [
  {
   "cell_type": "code",
   "execution_count": null,
   "metadata": {},
   "outputs": [],
   "source": [
    "from tools import *"
   ]
  },
  {
   "cell_type": "markdown",
   "metadata": {},
   "source": [
    "# Synopsis\n",
    "Dans cet atelier nous mettons en pratique les concepts vus ce mardi. Pour cela,\n",
    "nous analysons une base de données publique fournissant une estimation des\n",
    "émissions de carbonne chaque année (sur base de la consommation de carburants\n",
    "fossiles et de la production de ciment) entre 1751 et 2014 [1].\n",
    "\n",
    "Les données sont fournies sous forme de deux listes `X` et `Y`. La liste `X`\n",
    "contient les années de mesures alors que la liste `Y` contient les émissions de\n",
    "carbonne, exprimées en millions de tonnes. L'entrée en position `i` de la liste\n",
    "`X` correspond à l'année des émissions de carbonne à la position `i` de la liste\n",
    "`Y`. Par exemple si `X[i] = 2000` et `Y[i] = 6733`, cela signifie que 6733\n",
    "millions de tonnes de carbonne ont été émises en l'an 2000.\n",
    "\n",
    "La liste `X` est ordonnée en ordre strictement croissant telle que pour tout\n",
    "`i >= 0`,\n",
    "* si `j > i` et `j < len(X)` alors `X[j] > X[i]`\n",
    "* si `j = i` et `j < len(X)` alors `X[j] = X[i]`.\n",
    "\n",
    "La combinaison de `X` et `Y` forment ce qu'on appelle courrement une _série\n",
    "temporelle_ [2].\n",
    "\n",
    "Nous commençerons par afficher les données sous forme de graphique et à y\n",
    "apporter quelques interpretations. Ensuite, nous modeliserons la tendance de\n",
    "cette série temporelle par une fonction de croissance exponentielle et\n",
    "utiliserons ce modèle pour fournir une analyse circonstanciée de l'évolution des\n",
    "émissions de carbonne ces derniers siècles. Finalement, nous proposerons une\n",
    "ébauche de validation de notre modèle et en nuancerons les conclusions."
   ]
  },
  {
   "cell_type": "markdown",
   "metadata": {},
   "source": [
    "# Chargement des données\n",
    "Utilisons la fonction `loadData` pour charger la base de données en mémoire et\n",
    "accéder à ces information via les listes `X` et `Y`. N'hésitez pas à regarder\n",
    "les fichiers `tools.py` et `global.1751_2014.csv` pour comprendre comment il est\n",
    "possible de stocker des informations et de les extraire de manière systématique.\n",
    "\n",
    "Pour rendre notre code plus générique utilisons une constante contenant le nom\n",
    "du ficher contenant les données brutes."
   ]
  },
  {
   "cell_type": "code",
   "execution_count": null,
   "metadata": {},
   "outputs": [],
   "source": [
    "FICHIER_DONNEES_BRUTES = 'global.1751_2014.csv' # ficher de données à charger\n",
    "X, Y = loadData(FICHIER_DONNEES_BRUTES)         # charger les données en mémoire"
   ]
  },
  {
   "cell_type": "markdown",
   "metadata": {},
   "source": [
    "Les données qui composent notre série temporelle étant chargées en mémoire nous\n",
    "pouvons les visualiser grâce à un graphe. Même si les données dont nous\n",
    "disposons sont fondamentalement discrètes, il est d'usage de représenter les \n",
    "séries temporelles avec une ligne continue passant par tous les couples\n",
    "_(temps, valeur)_ issus de la base de donnée.\n",
    "\n",
    "Nous allons utiliser la librairie `matplotlib` de Python [3]. Cette librairie\n",
    "permet de représenter de manière graphique des jeux de données arbitraires. Plus\n",
    "précisément nous allons utiliser la fonction `pyplot` de cette librairie [4].\n",
    "Pour nous simplifier la tâche, nous l'avons déjà importée et pouvous l'appeler\n",
    "n'importe où dans le code avec nom `plt`.\n",
    "\n",
    "Voici 4 fonctions de `pyplot` qui vont nous servir pour représenter nos données\n",
    "de manière graphique:\n",
    "* `plt.pot(x, y, label)` qui trace la courbe où `x` est une liste de point en\n",
    "abscisse et `y` est la liste de points en ordonnées correspondant aux abscisse.\n",
    "`label` est le nom de la courbe.\n",
    "\n",
    "* `plt.xlabel(texte)` permet d'indiquer le nom de l'axe des abscisse.\n",
    "* `plt.ylabel(texte)` permet d'indiquer le nom de l'axe des ordonnées.\n",
    "* `plt.legend()` demande d'afficher la légende.\n",
    "\n",
    "L'exemple ci-dessous, montre comment utiliser la fonction `plt` pour tracer une\n",
    "courbe."
   ]
  },
  {
   "cell_type": "code",
   "execution_count": null,
   "metadata": {},
   "outputs": [],
   "source": [
    "abscisse = [1,2,3,4]\n",
    "ordonnees = [10,5, 30, 20]\n",
    "plt.plot(abscisse, ordonnees, label='Points arbitraires')\n",
    "plt.xlabel('Axe des x')\n",
    "plt.ylabel('Axe des y')\n",
    "plt.legend()"
   ]
  },
  {
   "cell_type": "markdown",
   "metadata": {},
   "source": [
    "Utilisez la fonction `plt` pour représenter de manière graphique nos données `X`\n",
    "et `Y`. L'axe des abscisse devrait être nommé `Année` alors que l'axe des\n",
    "ordonnées devrait être nommé `Emissions fossiles en MtC`. `MtC` signifiant\n",
    "million de tonnes d'émissions de carbonne ici. La courbe devrait avoir pour\n",
    "légende `Données empiriques`.\n"
   ]
  },
  {
   "cell_type": "markdown",
   "metadata": {},
   "source": [
    "Pourquoi lorsque nous représentons des données il est indispensable de toujours\n",
    "nommer données et leurs axes ainsi que de préciser dans quelles unités les\n",
    "données sont exprimées?"
   ]
  },
  {
   "cell_type": "code",
   "execution_count": null,
   "metadata": {},
   "outputs": [],
   "source": [
    "plt.plot(X, Y, label='Données empiriques')  # tracer la courbe\n",
    "plt.xlabel('Année')                         # nommer l'axe des x\n",
    "plt.ylabel('Emissions fossiles MtC')        # nommer l'axe des y\n",
    "plt.legend()                                # afficher la légende"
   ]
  },
  {
   "cell_type": "markdown",
   "metadata": {},
   "source": [
    "Commentez la courbe obtenue en plaçant dans le contexte historique."
   ]
  },
  {
   "cell_type": "markdown",
   "metadata": {},
   "source": [
    "Lorsque l'on travail avec des bases de données, il est souvent intéressant de se\n",
    "concentrer sur un sous-ensemble des données de la base.\n",
    "\n",
    "Pour la suite de notre analyse, nous allons limiter notre étude à certaines\n",
    "périodes de temps. Pour simplifier le raisonnement sur les données nous allons\n",
    "appliquer un principe fondamental de la programation: _la décomposition en\n",
    "sous-problèmes_.\n",
    "\n",
    "Créons donc la fonction `donneesPeriode(X, Y, debut, fin)`. `X` et `Y` sont les\n",
    "valeurs en x et y des données brutes. `debut` est la date de début souhaitée\n",
    "de la période à extraire des données brutes et `fin` est la date de fin de cette\n",
    "période. La fonction retourne `X_` et `Y_` deux sous-listes extraites de `X` et\n",
    "`Y`. Notre hypothèse de travail ici est que les données brutes contiennent\n",
    "toutes les années, classées de manière croissante.\n",
    "\n",
    "Si `X = [2001, 2002, 2003, 2004]` et `Y = [1, 5, 3, 6]` alors `X_` et `Y_`\n",
    "obtenus par l'appel `X_, Y_ = donneesPeriode(X, Y, 2002, 2003)`  devraient\n",
    "valoir `[2002, 2003]` et `[5, 3]`, respectivement.\n",
    "\n",
    "Python offre une syntaxe simple pour extraire une sous-liste d'une liste\n",
    "simplement en donnant l'index du début de la sous-liste et son indexe de fin,\n",
    "séparés par le symbole `:`. Ainsi l'expression `liste[i:j]` retourne la\n",
    "sous-liste constituée des éléments de la liste `liste`, commençant à l'index `i`\n",
    "inclu et terminant à l'indice `j` exclu. Python, comme la majorité des languages\n",
    "de programmation, indexe ses listes en partant de 0. Dans l'exemple ci-dessus,\n",
    "`X[0]` donnerait donc la valeur 2001 alors que `X[2]` donnerait `2003`.\n",
    "\n",
    "Pour extraire la sous-liste commençant à l'année 2002 et terminant à l'année 2003\n",
    "il nous suffit donc de faire `X_ = X[1:3]` et `Y_ = Y[1:3]` car l'année 2002 se\n",
    "trouve à l'index 1 et l'année 2003 se trouve à l'indexe 2 de `X`.\n",
    "\n",
    "La difficulté réside donc ici à trouver les indexes de début et de fin de la\n",
    "sous-liste qui nous intéresse."
   ]
  },
  {
   "cell_type": "code",
   "execution_count": null,
   "metadata": {},
   "outputs": [],
   "source": [
    "def donneesPeriode(X, Y, debut, fin):\n",
    "    \"\"\"\n",
    "    X: années du jeu de données\n",
    "    Y: emission du jeu de données\n",
    "    debut: date de début des données à extraire\n",
    "    fin: date de fin des données à extraire\n",
    "    \"\"\"\n",
    "    nb_mesures = fin - debut + 1                # nombre de mesures à extraire\n",
    "\n",
    "    index_initial = debut - X[0]                # index de la première mesure\n",
    "    index_final = index_initial + nb_mesures    # index de la dernière mesure\n",
    "\n",
    "    X_ = X[index_initial:index_final]           # garder les x sur l'intervalle \n",
    "    Y_ = Y[index_initial:index_final]           # garder les y sur l'intervalle\n",
    "\n",
    "    return X_, Y_                               # retourner les x et les y"
   ]
  },
  {
   "cell_type": "markdown",
   "metadata": {},
   "source": [
    "# Modélisation"
   ]
  },
  {
   "cell_type": "markdown",
   "metadata": {},
   "source": [
    "## Modèle de croissance exponentielle\n",
    "Le modèle exponentiel prend un taux de croissance et une valeur initiale.\n",
    "\n",
    "La valeur au bout de _n_ itérations se calcule selon la formule générale _y_n = C^n * y_0_"
   ]
  },
  {
   "cell_type": "markdown",
   "metadata": {},
   "source": [
    "Sur base d'un modèle de croissance exponentielle, trouver la valeur _y_ au bout de\n",
    " _n_ années depuis le début des mesures."
   ]
  },
  {
   "cell_type": "code",
   "execution_count": null,
   "metadata": {},
   "outputs": [],
   "source": [
    "def modeleExponentiel(croissance, y0, n):\n",
    "    \"\"\"\n",
    "    croissance: taux de croissance annuel exprimé en %\n",
    "    y0: valeur initiale\n",
    "    n: itération à laquelle prévoir la valeur\n",
    "    \"\"\"\n",
    "    C = 1.0 + (croissance / 100.0)  # facteur de croissance\n",
    "\n",
    "    yn = (C ** n) * y0              # valeur au bout de n années\n",
    "\n",
    "    return yn                       # retourner la valeur après n années"
   ]
  },
  {
   "cell_type": "markdown",
   "metadata": {},
   "source": [
    "## Estimation du taux de croissance annuelle\n",
    "Estimation du taux de croissance annuel en supposant une evolution exponentielle\n",
    "des émissions."
   ]
  },
  {
   "cell_type": "markdown",
   "metadata": {},
   "source": [
    "Utiliser un ajustement de courbe pour déterminer les paramètres du modèle de\n",
    "croissance exponentielle."
   ]
  },
  {
   "cell_type": "code",
   "execution_count": null,
   "metadata": {},
   "outputs": [],
   "source": [
    "def parametresModeleExponentiel(X, Y):\n",
    "    \"\"\"\n",
    "    X: _x_ connus\n",
    "    Y: _y_ connus\n",
    "    \"\"\"\n",
    "    x0 = X[0]                       # première année de mesures\n",
    "    y0 = Y[0]                       # valeur des émissions lors de cette année\n",
    "\n",
    "    xn = X[len(X) - 1]              # dernière année de mesures\n",
    "    yn = Y[len(X) - 1]              # valeur des émissions lors de cette année\n",
    "\n",
    "    nb_annees = xn - x0             # nombre d'années de mesures\n",
    "\n",
    "    C = (yn / y0)**(1.0/nb_annees)  # facteur de croissance\n",
    "    \n",
    "    croissance = (C - 1) * 100.0    # taux de croissance annuel en %\n",
    "\n",
    "    return y0, croissance           # retourner la valeur initiale et le taux"
   ]
  },
  {
   "cell_type": "markdown",
   "metadata": {},
   "source": [
    "Calculer le modèle sur un interval défini"
   ]
  },
  {
   "cell_type": "code",
   "execution_count": null,
   "metadata": {},
   "outputs": [],
   "source": [
    "def parametresModeleExponentielPeriode(X, Y, debut, fin):\n",
    "    \"\"\"\n",
    "    X: données brutes\n",
    "    Y: données brutes\n",
    "    debut: date de debut de l'intervalle d'analyse\n",
    "    fin: date de fin de l'intervalle d'analyse\n",
    "    \"\"\"\n",
    "    X_, Y_ = donneesPeriode(X, Y, debut, fin)   # données sur l'intervalle\n",
    "\n",
    "    # obtenir les parametres de l'exponentielle\n",
    "    y0, croissance = parametresModeleExponentiel (X_, Y_) \n",
    "\n",
    "    # calculer toutes les émissions dans l'intervalle de temps grace au modèle\n",
    "    # exponentiel\n",
    "    Y_modele = [modeleExponentiel(croissance, y0, i) for i in range(len(X_))]\n",
    "    \n",
    "    return X_, Y_, Y_modele, croissance # retourner les données calculées"
   ]
  },
  {
   "cell_type": "markdown",
   "metadata": {},
   "source": [
    "## Taux de croissance sur l'ensemble des données"
   ]
  },
  {
   "cell_type": "markdown",
   "metadata": {},
   "source": [
    "### Calcul du taux de croissance sur différents intervalles de temps\n",
    "1. l'entiereté des données\n",
    "2. la période [1850, 1913]\n",
    "3. la période [1945, 1973]"
   ]
  },
  {
   "cell_type": "code",
   "execution_count": null,
   "metadata": {},
   "outputs": [],
   "source": [
    "plt.plot(X, Y, label='Données empiriques')  # afficher les données sous forme de\n",
    "                                            # graphe\n",
    "plt.xlabel('Année')                         # nommer l'axe des x\n",
    "plt.ylabel('Emission fossiles GtC')         # nommer l'axe des y\n",
    "\n",
    "periodes = [\n",
    "    (X[0], X[len(X)-1]),                    # l'entiereté des données\n",
    "    (1850, 1913),                           # [1850, 1913]\n",
    "    (1945, 1973)                            # [1945, 1973]\n",
    "    ]                                       # lister les intervalles à étudier\n",
    "\n",
    "croissances = dict()                        # taux de croissance calculés pour\n",
    "                                            # chaque période\n",
    "                                            #   clé = période\n",
    "                                            #   valeur = taux de croissance\n",
    "\n",
    "# représenter graphiquement les résultats pour tous les intervalles de temps et\n",
    "# mémoriser le taux de croissance annuel\n",
    "for debut, fin in periodes:\n",
    "    # calculer les parametres du modèle sur l'intervalle de temps\n",
    "    X_, Y_, Y_modele, croissance = parametresModeleExponentielPeriode(X, Y, debut, fin)\n",
    "\n",
    "    # mémoriser le taux de croissance\n",
    "    croissances[(debut, fin)] = croissance\n",
    "\n",
    "    # ajouter la courbe à la figure\n",
    "    plt.plot(X_, Y_modele,\n",
    "             label='Modèle exponentiel [{debut}, {fin}] ({croissance:.2f}%)'\n",
    "                    .format(debut=debut, fin=fin, croissance=croissance))\n",
    "\n",
    "plt.legend()"
   ]
  },
  {
   "cell_type": "markdown",
   "metadata": {},
   "source": [
    "# Quel est le temps de doublement?\n",
    "\n",
    "Astuce:\n",
    "* Produit: log(M * N) = log(M) + log(N)\n",
    "* Quotient: log (M/N) = log(M) - log (N)\n",
    "* Puissance: log(M^p) = p * log(M)\n",
    "pour M > 0 et N > 0"
   ]
  },
  {
   "cell_type": "code",
   "execution_count": null,
   "metadata": {},
   "outputs": [],
   "source": [
    "def temps_doublement(croissance):\n",
    "    C = 1.0 + (croissance / 100.0)      # facteur de croissance\n",
    "\n",
    "    temps = log(2) / log (C)            # calcul du temps de doublement\n",
    "\n",
    "    return temps                        # retourner le temps de doublement"
   ]
  },
  {
   "cell_type": "code",
   "execution_count": null,
   "metadata": {},
   "outputs": [],
   "source": [
    "doublements = dict()    # temps de doublement calculés pour chaque période\n",
    "                        #   clé = période\n",
    "                        #   valeur = temps de doublement\n",
    "\n",
    "for (periode, value) in croissances.items():\n",
    "    # calculer le temps de doublement (en années entières)\n",
    "    temps = int(temps_doublement(croissances[periode]))\n",
    "\n",
    "    # mémorier le temps de doublement\n",
    "    doublements[periode] = temps\n",
    "\n",
    "    # afficher le temps de doublement\n",
    "    print (\"Temps de doublement pour la période [{debut}, {fin}]: {temps} années\"\n",
    "          .format(debut=periode[0], fin=periode[1], temps = temps))"
   ]
  },
  {
   "cell_type": "markdown",
   "metadata": {},
   "source": [
    "## Validation des valeurs obtenues"
   ]
  },
  {
   "cell_type": "markdown",
   "metadata": {},
   "source": [
    "### Analyse des émissions à un momment donné"
   ]
  },
  {
   "cell_type": "markdown",
   "metadata": {},
   "source": [
    "Comparaison avec les données brutes"
   ]
  },
  {
   "cell_type": "code",
   "execution_count": null,
   "metadata": {},
   "outputs": [],
   "source": [
    "periode = periodes[0]               # période depuis le début des données\n",
    "(debut, fin) = periode              # années de début et fin de la période\n",
    "\n",
    "fin_periode_double = fin            # fin de la dernière période de doublement\n",
    "debut_periode_double = fin - doublements[periode] # début de la dernière période\n",
    "                                                  # de doublement\n",
    "\n",
    "# obtention des données sur la dernière période de doublement\n",
    "X_periode_double, Y_period_double = donneesPeriode(X, Y, debut_periode_double, fin_periode_double)\n",
    "\n",
    "y_debut_periode = Y_period_double[0]                        # emissions au début\n",
    "                                                            # de la période\n",
    "y_fin_periode = Y_period_double[len(Y_period_double) - 1]   # émissions à la fin\n",
    "                                                            # de la période\n",
    "\n",
    "# afficher le rapport entre les émissions de la période \n",
    "print (y_fin_periode / y_debut_periode)"
   ]
  },
  {
   "cell_type": "markdown",
   "metadata": {},
   "source": [
    "Comparaison avec le modèle"
   ]
  },
  {
   "cell_type": "code",
   "execution_count": null,
   "metadata": {},
   "outputs": [],
   "source": [
    "croissance = croissances[periode]   # récupérer le taux de croissance sur la\n",
    "                                    # période\n",
    "\n",
    "n_debut_periode_double = debut_periode_double - debut # nombre d'années écoulées\n",
    "                                                      # entre le début des\n",
    "                                                      # mesures et le début de\n",
    "                                                      # la dernière période de\n",
    "                                                      # doublement\n",
    "n_fin_periode_double = fin_periode_double - debut     # nombre d'années écoulées\n",
    "                                                      # entre le début des\n",
    "                                                      # mesures et la fin de la\n",
    "                                                      # dernière période de\n",
    "                                                      # doublement\n",
    "\n",
    "y_debut_periode_modele = modeleExponentiel(croissance, Y[0], n_debut_periode_double) # calculer la valeur de l'expontentielle au début de la dernière période de doublement\n",
    "y_fin_periode_modele = modeleExponentiel(croissance, Y[0], n_fin_periode_double)     # calculer la valeur de l'expontentielle à la fin de la dernière période de doublement\n",
    "\n",
    "\n",
    "# afficher le rapport entre les émission de la période\n",
    "print (y_fin_periode_modele / y_debut_periode_modele)"
   ]
  },
  {
   "cell_type": "markdown",
   "metadata": {},
   "source": [
    "### Analyse des cumuls d'émissions"
   ]
  },
  {
   "cell_type": "markdown",
   "metadata": {},
   "source": [
    "Comparaison avec les données brutes"
   ]
  },
  {
   "cell_type": "code",
   "execution_count": null,
   "metadata": {},
   "outputs": [],
   "source": [
    "emissions_periode_double = sum(Y_period_double)     # calculer la somme des\n",
    "                                                    # émissions sur la dernière\n",
    "                                                    # période de doublement\n",
    "\n",
    "# obtention des données sur la période avant la période de doublement\n",
    "X_avant, Y_avant = donneesPeriode(X, Y, debut, debut_periode_double - 1)\n",
    "\n",
    "emissions_avant = sum(Y_avant)      # calculer la somme des émissions sur la\n",
    "                                    # période avant la dernière période de\n",
    "                                    # doublement\n",
    "\n",
    "# afficher le rapport entre la somme des émissions de la dernière période\n",
    "# d'émition et de la période la précédent\n",
    "print (emissions_periode_double/emissions_avant)\n"
   ]
  },
  {
   "cell_type": "markdown",
   "metadata": {},
   "source": [
    "Comparaison avec le modèle"
   ]
  },
  {
   "cell_type": "code",
   "execution_count": null,
   "metadata": {},
   "outputs": [],
   "source": [
    "# calculer la somme des émissions anticipées par le modèle de croissance\n",
    "# exponentiel sur la dernière période de doublement\n",
    "\n",
    "emissions_periode_double = sum ([modeleExponentiel(croissance, Y_avant[0], n) for n in range(debut_periode_double - debut, fin_periode_double - debut)])\n",
    "\n",
    "# calculer la somme des émissions anticipées par le modèle de croissance\n",
    "# exponentiel sur la période avant la dernière période de doublement\n",
    "emissions_avant = sum ([modeleExponentiel(croissance, Y_avant[0], n) for n in range(debut - debut, debut_periode_double - debut)])\n",
    "\n",
    "# afficher le rapport entre la somme des émissions de la dernière période\n",
    "# d'émition et de la période la précédent\n",
    "print (emissions_periode_double / emissions_avant)"
   ]
  },
  {
   "cell_type": "markdown",
   "metadata": {},
   "source": [
    "### Comment pouvez-vous expliquez ces différences ?\n"
   ]
  },
  {
   "cell_type": "markdown",
   "metadata": {},
   "source": [
    "# Aller plus loin\n",
    "* Trouvez d'autres sources de données publiques et comparez les résultats\n",
    "obtenus. Si les données que vous trouvez sont plus récentes, emettez des\n",
    "prévisions d'émissions sur bases de nos données et comparez les aux observations\n",
    "plus récentes."
   ]
  },
  {
   "cell_type": "markdown",
   "metadata": {},
   "source": [
    "# References\n",
    "[1] Boden, T.A., G. Marland, and R.J. Andres. 2017. Global, Regional, and National Fossil-Fuel CO2 Emissions. Carbon Dioxide Information Analysis Center, Oak Ridge National Laboratory, U.S. Department of Energy, Oak Ridge, Tenn., U.S.A. doi 10.3334/CDIAC/00001_V2017.\n",
    "\n",
    "[2] Louis, F. 2021. Daniel , peux-tu nous parler des séries temporelles ?, DataScientest, https://datascientest.com/series-temporelles.\n",
    "\n",
    "[3] Matplotlib: Visualization with Python. 2022. https://matplotlib.org/.\n",
    "\n",
    "[4] Pyplot function overview. 2022. https://matplotlib.org/stable/api/pyplot_summary.html."
   ]
  },
  {
   "cell_type": "markdown",
   "metadata": {},
   "source": []
  }
 ],
 "metadata": {
  "interpreter": {
   "hash": "949777d72b0d2535278d3dc13498b2535136f6dfe0678499012e853ee9abcab1"
  },
  "kernelspec": {
   "display_name": "Python 3.10.4 64-bit",
   "language": "python",
   "name": "python3"
  },
  "language_info": {
   "codemirror_mode": {
    "name": "ipython",
    "version": 3
   },
   "file_extension": ".py",
   "mimetype": "text/x-python",
   "name": "python",
   "nbconvert_exporter": "python",
   "pygments_lexer": "ipython3",
   "version": "3.10.4"
  },
  "orig_nbformat": 4
 },
 "nbformat": 4,
 "nbformat_minor": 2
}
