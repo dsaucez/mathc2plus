{
 "cells": [
  {
   "cell_type": "code",
   "execution_count": null,
   "metadata": {},
   "outputs": [],
   "source": [
    "from tools import *"
   ]
  },
  {
   "cell_type": "markdown",
   "metadata": {},
   "source": [
    "# Synopsis\n",
    "Dans cet atelier nous mettons en pratique les concepts vus ce mardi. Pour cela,\n",
    "nous analysons une base de données publique fournissant une estimation du des\n",
    "émisession de carbonne chaque année (sur base de la consommation de carburants\n",
    "fossiles et de la production de ciment) entre 1751 et 2014 [1].\n",
    "\n",
    "Les données sont fournies sous forme de deux listes X et Y. La liste X contient\n",
    "les années de mesures alors que la liste Y contient les émissions de carbonne,\n",
    "exprimées en millions de tonnes. L'entrée en position i de la liste X correspond\n",
    "à l'année des émissions de carbonne à la position i de la liste Y. Par exemple\n",
    "si X[i] = 2000 et Y[i] = 6733, cela signifie que 6733 millions de tonnes de\n",
    "carbonne ont été émises en l'an 2000.\n",
    "\n",
    "La liste X est ordonnée en ordre croissant telle que pour tout i >= 0,\n",
    "* si j > i et j < len(X) alors X[j] > X[i]\n",
    "* si j = i et j < len(X) alors X[j] = X[i].\n",
    "\n",
    "Nous commençons par afficher les données sous forme de graphique et à y apporter\n",
    "quelques interpretations. Ensuite, nous modeliserons ces données par une\n",
    "croissance exponentielle et utiliserons ce modèle pour fournir une analyse\n",
    "circonstanciée de l'évolution des émissions de carbonne ces derniers siècles.\n",
    "Finalement, nous proposerons une ébauche de validation de notre modèle et en\n",
    "nuancerons les conclusions."
   ]
  },
  {
   "cell_type": "markdown",
   "metadata": {},
   "source": [
    "# Chargement des données\n",
    "Total carbon emissions from fossil fuel consumption and cement production (million metric tons of C)"
   ]
  },
  {
   "cell_type": "code",
   "execution_count": null,
   "metadata": {},
   "outputs": [],
   "source": [
    "X, Y = loadData('global.1751_2014.csv')     # charger les données en mémoire"
   ]
  },
  {
   "cell_type": "markdown",
   "metadata": {},
   "source": [
    "## Filtrer les données"
   ]
  },
  {
   "cell_type": "markdown",
   "metadata": {},
   "source": [
    "Pour étudier l'évolution des émissions il est nécessaire de pouvoir analyser les\n",
    "données mises à notre disposition sur une période de temps limitée."
   ]
  },
  {
   "cell_type": "code",
   "execution_count": null,
   "metadata": {},
   "outputs": [],
   "source": [
    "def donneesPeriode(X, Y, debut, fin):\n",
    "    \"\"\"\n",
    "    X: années du jeu de données\n",
    "    Y: emission du jeu de données\n",
    "    debut: date de début des données à extraire\n",
    "    fin: date de fin des données à extraire\n",
    "    \"\"\"\n",
    "    nb_mesures = fin - debut + 1                # nombre de mesures à extraire\n",
    "\n",
    "    index_initial = debut - X[0]                # index de la première mesure\n",
    "    index_final = index_initial + nb_mesures    # index de la dernière mesure\n",
    "\n",
    "    X_ = X[index_initial:index_final]           # garder les x sur l'intervalle \n",
    "    Y_ = Y[index_initial:index_final]           # garder les y sur l'intervalle\n",
    "\n",
    "    return X_, Y_                               # retourner les x et les y"
   ]
  },
  {
   "cell_type": "markdown",
   "metadata": {},
   "source": [
    "# Representation des données de manière graphique"
   ]
  },
  {
   "cell_type": "code",
   "execution_count": null,
   "metadata": {},
   "outputs": [],
   "source": [
    "plt.plot(X, Y, label='Données empiriques')\n",
    "plt.xlabel('Année')\n",
    "plt.ylabel('Emission fossiles GtC')\n",
    "plt.legend()"
   ]
  },
  {
   "cell_type": "markdown",
   "metadata": {},
   "source": [
    "Commentez cette courbe en la plaçant dans son contexte histoirique"
   ]
  },
  {
   "cell_type": "markdown",
   "metadata": {},
   "source": [
    "# Modélisation"
   ]
  },
  {
   "cell_type": "markdown",
   "metadata": {},
   "source": [
    "## Modèle de croissance exponentielle\n",
    "Le modèle exponentiel prend un taux de croissance et une valeur initiale.\n",
    "\n",
    "La valeur au bout de _n_ itérations se calcule selon la formule générale _y_n = C^n * y_0_"
   ]
  },
  {
   "cell_type": "markdown",
   "metadata": {},
   "source": [
    "Sur base d'un modèle de croissance exponentielle, trouver la valeur _y_ au bout de\n",
    " _n_ années depuis le début des mesures."
   ]
  },
  {
   "cell_type": "code",
   "execution_count": null,
   "metadata": {},
   "outputs": [],
   "source": [
    "def modeleExponentiel(croissance, y0, n):\n",
    "    \"\"\"\n",
    "    croissance: taux de croissance annuel exprimé en %\n",
    "    y0: valeur initiale\n",
    "    n: itération à laquelle prévoir la valeur\n",
    "    \"\"\"\n",
    "    C = 1.0 + (croissance / 100.0)  # facteur de croissance\n",
    "\n",
    "    yn = (C ** n) * y0              # valeur au bout de n années\n",
    "\n",
    "    return yn                       # retourner la valeur après n années"
   ]
  },
  {
   "cell_type": "markdown",
   "metadata": {},
   "source": [
    "## Estimation du taux de croissance annuelle\n",
    "Estimation du taux de croissance annuel en supposant une evolution exponentielle\n",
    "des émissions."
   ]
  },
  {
   "cell_type": "markdown",
   "metadata": {},
   "source": [
    "Utiliser un ajustement de courbe pour déterminer les paramètres du modèle de\n",
    "croissance exponentielle."
   ]
  },
  {
   "cell_type": "code",
   "execution_count": null,
   "metadata": {},
   "outputs": [],
   "source": [
    "def parametresModeleExponentiel(X, Y):\n",
    "    \"\"\"\n",
    "    X: _x_ connus\n",
    "    Y: _y_ connus\n",
    "    \"\"\"\n",
    "    x0 = X[0]                       # première année de mesures\n",
    "    y0 = Y[0]                       # valeur des émissions lors de cette année\n",
    "\n",
    "    xn = X[len(X) - 1]              # dernière année de mesures\n",
    "    yn = Y[len(X) - 1]              # valeur des émissions lors de cette année\n",
    "\n",
    "    nb_annees = xn - x0             # nombre d'années de mesures\n",
    "\n",
    "    C = (yn / y0)**(1.0/nb_annees)  # facteur de croissance\n",
    "    \n",
    "    croissance = (C - 1) * 100.0    # taux de croissance annuel en %\n",
    "\n",
    "    return y0, croissance           # retourner la valeur initiale et le taux"
   ]
  },
  {
   "cell_type": "markdown",
   "metadata": {},
   "source": [
    "Calculer le modèle sur un interval défini"
   ]
  },
  {
   "cell_type": "code",
   "execution_count": null,
   "metadata": {},
   "outputs": [],
   "source": [
    "def parametresModeleExponentielPeriode(X, Y, debut, fin):\n",
    "    \"\"\"\n",
    "    X: données brutes\n",
    "    Y: données brutes\n",
    "    debut: date de debut de l'intervalle d'analyse\n",
    "    fin: date de fin de l'intervalle d'analyse\n",
    "    \"\"\"\n",
    "    X_, Y_ = donneesPeriode(X, Y, debut, fin)   # données sur l'intervalle\n",
    "\n",
    "    # obtenir les parametres de l'exponentielle\n",
    "    y0, croissance = parametresModeleExponentiel (X_, Y_) \n",
    "\n",
    "    # calculer toutes les émissions dans l'intervalle de temps grace au modèle\n",
    "    # exponentiel\n",
    "    Y_modele = [modeleExponentiel(croissance, y0, i) for i in range(len(X_))]\n",
    "    \n",
    "    return X_, Y_, Y_modele, croissance # retourner les données calculées"
   ]
  },
  {
   "cell_type": "markdown",
   "metadata": {},
   "source": [
    "## Taux de croissance sur l'ensemble des données"
   ]
  },
  {
   "cell_type": "markdown",
   "metadata": {},
   "source": [
    "### Calcul du taux de croissance sur différents intervalles de temps\n",
    "1. l'entiereté des données\n",
    "2. la période [1850, 1913]\n",
    "3. la période [1945, 1973]"
   ]
  },
  {
   "cell_type": "code",
   "execution_count": null,
   "metadata": {},
   "outputs": [],
   "source": [
    "plt.plot(X, Y, label='Données empiriques')  # afficher les données sous forme de\n",
    "                                            # graphe\n",
    "plt.xlabel('Année')                         # nommer l'axe des x\n",
    "plt.ylabel('Emission fossiles GtC')         # nommer l'axe des y\n",
    "\n",
    "periodes = [\n",
    "    (X[0], X[len(X)-1]),                    # l'entiereté des données\n",
    "    (1850, 1913),                           # [1850, 1913]\n",
    "    (1945, 1973)                            # [1945, 1973]\n",
    "    ]                                       # lister les intervalles à étudier\n",
    "\n",
    "croissances = dict()                        # taux de croissance calculés pour\n",
    "                                            # chaque période\n",
    "                                            #   clé = période\n",
    "                                            #   valeur = taux de croissance\n",
    "\n",
    "# représenter graphiquement les résultats pour tous les intervalles de temps et\n",
    "# mémoriser le taux de croissance annuel\n",
    "for debut, fin in periodes:\n",
    "    # calculer les parametres du modèle sur l'intervalle de temps\n",
    "    X_, Y_, Y_modele, croissance = parametresModeleExponentielPeriode(X, Y, debut, fin)\n",
    "\n",
    "    # mémoriser le taux de croissance\n",
    "    croissances[(debut, fin)] = croissance\n",
    "\n",
    "    # ajouter la courbe à la figure\n",
    "    plt.plot(X_, Y_modele,\n",
    "             label='Modèle exponentiel [{debut}, {fin}] ({croissance:.2f}%)'\n",
    "                    .format(debut=debut, fin=fin, croissance=croissance))\n",
    "\n",
    "plt.legend()"
   ]
  },
  {
   "cell_type": "markdown",
   "metadata": {},
   "source": [
    "# Quel est le temps de doublement?\n",
    "\n",
    "Astuce:\n",
    "* Produit: log(M * N) = log(M) + log(N)\n",
    "* Quotient: log (M/N) = log(M) - log (N)\n",
    "* Puissance: log(M^p) = p * log(M)\n",
    "pour M > 0 et N > 0"
   ]
  },
  {
   "cell_type": "code",
   "execution_count": null,
   "metadata": {},
   "outputs": [],
   "source": [
    "def temps_doublement(croissance):\n",
    "    C = 1.0 + (croissance / 100.0)      # facteur de croissance\n",
    "\n",
    "    temps = log(2) / log (C)            # calcul du temps de doublement\n",
    "\n",
    "    return temps                        # retourner le temps de doublement"
   ]
  },
  {
   "cell_type": "code",
   "execution_count": null,
   "metadata": {},
   "outputs": [],
   "source": [
    "doublements = dict()    # temps de doublement calculés pour chaque période\n",
    "                        #   clé = période\n",
    "                        #   valeur = temps de doublement\n",
    "\n",
    "for (periode, value) in croissances.items():\n",
    "    # calculer le temps de doublement (en années entières)\n",
    "    temps = int(temps_doublement(croissances[periode]))\n",
    "\n",
    "    # mémorier le temps de doublement\n",
    "    doublements[periode] = temps\n",
    "\n",
    "    # afficher le temps de doublement\n",
    "    print (\"Temps de doublement pour la période [{debut}, {fin}]: {temps} années\"\n",
    "          .format(debut=periode[0], fin=periode[1], temps = temps))"
   ]
  },
  {
   "cell_type": "markdown",
   "metadata": {},
   "source": [
    "## Validation des valeurs obtenues"
   ]
  },
  {
   "cell_type": "markdown",
   "metadata": {},
   "source": [
    "### Analyse des émissions à un momment donné"
   ]
  },
  {
   "cell_type": "markdown",
   "metadata": {},
   "source": [
    "Comparaison avec les données brutes"
   ]
  },
  {
   "cell_type": "code",
   "execution_count": null,
   "metadata": {},
   "outputs": [],
   "source": [
    "periode = periodes[0]               # période depuis le début des données\n",
    "(debut, fin) = periode              # années de début et fin de la période\n",
    "\n",
    "fin_periode_double = fin            # fin de la dernière période de doublement\n",
    "debut_periode_double = fin - doublements[periode] # début de la dernière période\n",
    "                                                  # de doublement\n",
    "\n",
    "# obtention des données sur la dernière période de doublement\n",
    "X_periode_double, Y_period_double = donneesPeriode(X, Y, debut_periode_double, fin_periode_double)\n",
    "\n",
    "y_debut_periode = Y_period_double[0]                        # emissions au début\n",
    "                                                            # de la période\n",
    "y_fin_periode = Y_period_double[len(Y_period_double) - 1]   # émissions à la fin\n",
    "                                                            # de la période\n",
    "\n",
    "# afficher le rapport entre les émissions de la période \n",
    "print (y_fin_periode / y_debut_periode)"
   ]
  },
  {
   "cell_type": "markdown",
   "metadata": {},
   "source": [
    "Comparaison avec le modèle"
   ]
  },
  {
   "cell_type": "code",
   "execution_count": null,
   "metadata": {},
   "outputs": [],
   "source": [
    "croissance = croissances[periode]   # récupérer le taux de croissance sur la\n",
    "                                    # période\n",
    "\n",
    "n_debut_periode_double = debut_periode_double - debut # nombre d'années écoulées\n",
    "                                                      # entre le début des\n",
    "                                                      # mesures et le début de\n",
    "                                                      # la dernière période de\n",
    "                                                      # doublement\n",
    "n_fin_periode_double = fin_periode_double - debut     # nombre d'années écoulées\n",
    "                                                      # entre le début des\n",
    "                                                      # mesures et la fin de la\n",
    "                                                      # dernière période de\n",
    "                                                      # doublement\n",
    "\n",
    "y_debut_periode_modele = modeleExponentiel(croissance, Y[0], n_debut_periode_double) # calculer la valeur de l'expontentielle au début de la dernière période de doublement\n",
    "y_fin_periode_modele = modeleExponentiel(croissance, Y[0], n_fin_periode_double)     # calculer la valeur de l'expontentielle à la fin de la dernière période de doublement\n",
    "\n",
    "\n",
    "# afficher le rapport entre les émission de la période\n",
    "print (y_fin_periode_modele / y_debut_periode_modele)"
   ]
  },
  {
   "cell_type": "markdown",
   "metadata": {},
   "source": [
    "### Analyse des cumuls d'émissions"
   ]
  },
  {
   "cell_type": "markdown",
   "metadata": {},
   "source": [
    "Comparaison avec les données brutes"
   ]
  },
  {
   "cell_type": "code",
   "execution_count": null,
   "metadata": {},
   "outputs": [],
   "source": [
    "emissions_periode_double = sum(Y_period_double)     # calculer la somme des\n",
    "                                                    # émissions sur la dernière\n",
    "                                                    # période de doublement\n",
    "\n",
    "# obtention des données sur la période avant la période de doublement\n",
    "X_avant, Y_avant = donneesPeriode(X, Y, debut, debut_periode_double - 1)\n",
    "\n",
    "emissions_avant = sum(Y_avant)      # calculer la somme des émissions sur la\n",
    "                                    # période avant la dernière période de\n",
    "                                    # doublement\n",
    "\n",
    "# afficher le rapport entre la somme des émissions de la dernière période\n",
    "# d'émition et de la période la précédent\n",
    "print (emissions_periode_double/emissions_avant)\n"
   ]
  },
  {
   "cell_type": "markdown",
   "metadata": {},
   "source": [
    "Comparaison avec le modèle"
   ]
  },
  {
   "cell_type": "code",
   "execution_count": null,
   "metadata": {},
   "outputs": [],
   "source": [
    "# calculer la somme des émissions anticipées par le modèle de croissance\n",
    "# exponentiel sur la dernière période de doublement\n",
    "\n",
    "emissions_periode_double = sum ([modeleExponentiel(croissance, Y_avant[0], n) for n in range(debut_periode_double - debut, fin_periode_double - debut)])\n",
    "\n",
    "# calculer la somme des émissions anticipées par le modèle de croissance\n",
    "# exponentiel sur la période avant la dernière période de doublement\n",
    "emissions_avant = sum ([modeleExponentiel(croissance, Y_avant[0], n) for n in range(debut - debut, debut_periode_double - debut)])\n",
    "\n",
    "# afficher le rapport entre la somme des émissions de la dernière période\n",
    "# d'émition et de la période la précédent\n",
    "print (emissions_periode_double / emissions_avant)"
   ]
  },
  {
   "cell_type": "markdown",
   "metadata": {},
   "source": [
    "### Comment pouvez-vous expliquez ces différences ?\n"
   ]
  },
  {
   "cell_type": "markdown",
   "metadata": {},
   "source": [
    "# Aller plus loin\n",
    "* Trouvez d'autres sources de données publiques et comparez les résultats\n",
    "obtenus. Si les données que vous trouvez sont plus récentes, emettez des\n",
    "prévisions d'émissions sur bases de nos données et comparez les aux observations\n",
    "plus récentes."
   ]
  },
  {
   "cell_type": "markdown",
   "metadata": {},
   "source": [
    "# References\n",
    "[1] Boden, T.A., G. Marland, and R.J. Andres. 2017. Global, Regional, and National Fossil-Fuel CO2 Emissions. Carbon Dioxide Information Analysis Center, Oak Ridge National Laboratory, U.S. Department of Energy, Oak Ridge, Tenn., U.S.A. doi 10.3334/CDIAC/00001_V2017."
   ]
  },
  {
   "cell_type": "markdown",
   "metadata": {},
   "source": []
  }
 ],
 "metadata": {
  "interpreter": {
   "hash": "949777d72b0d2535278d3dc13498b2535136f6dfe0678499012e853ee9abcab1"
  },
  "kernelspec": {
   "display_name": "Python 3.10.4 64-bit",
   "language": "python",
   "name": "python3"
  },
  "language_info": {
   "codemirror_mode": {
    "name": "ipython",
    "version": 3
   },
   "file_extension": ".py",
   "mimetype": "text/x-python",
   "name": "python",
   "nbconvert_exporter": "python",
   "pygments_lexer": "ipython3",
   "version": "3.10.4"
  },
  "orig_nbformat": 4
 },
 "nbformat": 4,
 "nbformat_minor": 2
}
